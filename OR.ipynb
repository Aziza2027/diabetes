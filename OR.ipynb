{
 "cells": [
  {
   "cell_type": "code",
   "execution_count": 1,
   "metadata": {},
   "outputs": [],
   "source": [
    "import pandas as pd\n",
    "# import datawig\n",
    "\n",
    "import pandas as pd\n",
    "import numpy as np\n",
    "\n",
    "from functions import calculate_OR, calculate_P\n",
    "\n"
   ]
  },
  {
   "cell_type": "code",
   "execution_count": 2,
   "metadata": {},
   "outputs": [],
   "source": [
    "\n",
    "# Load dataset\n",
    "data = pd.read_csv('./data/join_filled.csv')\n",
    "\n",
    "x = data['ГГ'].copy()\n",
    "y = data.iloc[:,114:].copy()\n",
    "\n",
    "data = pd.concat([x, y], axis=1)\n",
    "data = data.rename(columns={'ГГ': 'case'})\n",
    "data['case'] = (data['case'] >= data['case'].mean()).astype(int)"
   ]
  },
  {
   "cell_type": "code",
   "execution_count": 3,
   "metadata": {},
   "outputs": [],
   "source": [
    "\n",
    "# list of columns for which to calculate odds ratio\n",
    "genotype_cols = [col for col in data.columns if col != 'case']"
   ]
  },
  {
   "cell_type": "code",
   "execution_count": 74,
   "metadata": {},
   "outputs": [
    {
     "name": "stdout",
     "output_type": "stream",
     "text": [
      "rs225131_NC_000001.11_8035426T>C   C   T\n",
      "case                                    \n",
      "1                                 25  57\n",
      "0                                 23  55\n",
      "0.42252639875536513 1.0\n",
      "rs225132_NC_000001.11_8035440T>G   G   T\n",
      "case                                    \n",
      "1                                 25  57\n",
      "0                                 23  55\n",
      "0.42252639875536513 1.0\n",
      "rs17367504_NC_000001.11_11802721A>G   A   G\n",
      "case                                       \n",
      "1                                    65  17\n",
      "0                                    64  14\n",
      "0.8506387241391525 0.8063733981650176\n"
     ]
    }
   ],
   "source": [
    "\n",
    "all_values = {}\n",
    "# loop over genotype columns\n",
    "for col in genotype_cols[:3]:\n",
    "    # split into case and control groups\n",
    "    case_group = data[data['case'] == 1][col]\n",
    "    control_group = data[data['case'] == 0][col]\n",
    "\n",
    "    # extract wild type and mutant type from column name\n",
    "\n",
    "    w, m = col[-3:].split('>')\n",
    "    wild, heterozygous, mutant = w+w, w+m, m+m\n",
    "\n",
    "    # calculate odds ratio and confidence interval for dominant model\n",
    "    dominant = calculate_OR(case_group, control_group, wild, heterozygous, mutant, model='dominant')\n",
    "    recessive = calculate_OR(case_group, control_group, wild, heterozygous, mutant, model='recessive')\n",
    "    codominant = calculate_OR(case_group, control_group, wild, heterozygous, mutant, model='codominant')\n",
    "    allele = calculate_OR(case_group, control_group, wild, heterozygous, mutant, model='allele')\n",
    "\n",
    "    p_all, p_gen = calculate_P(data['case'], data[col])\n",
    "\n",
    "    all_values[col] = [\n",
    "        *allele,\n",
    "        *codominant,\n",
    "        *dominant,\n",
    "        *recessive\n",
    "    ]"
   ]
  },
  {
   "cell_type": "code",
   "execution_count": 69,
   "metadata": {},
   "outputs": [
    {
     "data": {
      "text/html": [
       "<div>\n",
       "<style scoped>\n",
       "    .dataframe tbody tr th:only-of-type {\n",
       "        vertical-align: middle;\n",
       "    }\n",
       "\n",
       "    .dataframe tbody tr th {\n",
       "        vertical-align: top;\n",
       "    }\n",
       "\n",
       "    .dataframe thead th {\n",
       "        text-align: right;\n",
       "    }\n",
       "</style>\n",
       "<table border=\"1\" class=\"dataframe\">\n",
       "  <thead>\n",
       "    <tr style=\"text-align: right;\">\n",
       "      <th>rs225131_NC_000001.11_8035426T&gt;C</th>\n",
       "      <th>C</th>\n",
       "      <th>T</th>\n",
       "    </tr>\n",
       "    <tr>\n",
       "      <th>case</th>\n",
       "      <th></th>\n",
       "      <th></th>\n",
       "    </tr>\n",
       "  </thead>\n",
       "  <tbody>\n",
       "    <tr>\n",
       "      <th>1</th>\n",
       "      <td>25</td>\n",
       "      <td>57</td>\n",
       "    </tr>\n",
       "    <tr>\n",
       "      <th>0</th>\n",
       "      <td>23</td>\n",
       "      <td>55</td>\n",
       "    </tr>\n",
       "  </tbody>\n",
       "</table>\n",
       "</div>"
      ],
      "text/plain": [
       "rs225131_NC_000001.11_8035426T>C   C   T\n",
       "case                                    \n",
       "1                                 25  57\n",
       "0                                 23  55"
      ]
     },
     "execution_count": 69,
     "metadata": {},
     "output_type": "execute_result"
    }
   ],
   "source": [
    "c"
   ]
  },
  {
   "cell_type": "code",
   "execution_count": 70,
   "metadata": {},
   "outputs": [
    {
     "data": {
      "text/plain": [
       "Chi2ContingencyResult(statistic=0.0, pvalue=1.0, dof=1, expected_freq=array([[24.6, 57.4],\n",
       "       [23.4, 54.6]]))"
      ]
     },
     "execution_count": 70,
     "metadata": {},
     "output_type": "execute_result"
    }
   ],
   "source": [
    "chi2_contingency(c)"
   ]
  },
  {
   "cell_type": "code",
   "execution_count": null,
   "metadata": {},
   "outputs": [],
   "source": []
  },
  {
   "cell_type": "code",
   "execution_count": 6,
   "metadata": {},
   "outputs": [],
   "source": [
    "res = pd.DataFrame(all_values).T\n",
    "res.columns = [\n",
    "    'allele_M', 'allele_M_CI',\n",
    "    'allele_W', 'allele_W_CI',\n",
    "    'general_W', 'general_W_CI',\n",
    "    'general_Ht', 'general_Ht_CI',\n",
    "    'general_M', 'general_M_CI',\n",
    "    'dominant_W', 'dominant_W_CI',\n",
    "    'dominant_Ht_M', 'dominant_Ht_M_CI',\n",
    "    'recessive_W_Ht', 'recessive_W_Ht_CI',\n",
    "    'recessive_M', 'recessive_M_CI',\n",
    "    ]\n",
    "# res.reset_index(inplace=True)\n",
    "# res.rename(columns={'index':'rsid'}, inplace=True)"
   ]
  },
  {
   "cell_type": "code",
   "execution_count": 7,
   "metadata": {},
   "outputs": [
    {
     "data": {
      "text/html": [
       "<div>\n",
       "<style scoped>\n",
       "    .dataframe tbody tr th:only-of-type {\n",
       "        vertical-align: middle;\n",
       "    }\n",
       "\n",
       "    .dataframe tbody tr th {\n",
       "        vertical-align: top;\n",
       "    }\n",
       "\n",
       "    .dataframe thead th {\n",
       "        text-align: right;\n",
       "    }\n",
       "</style>\n",
       "<table border=\"1\" class=\"dataframe\">\n",
       "  <thead>\n",
       "    <tr style=\"text-align: right;\">\n",
       "      <th></th>\n",
       "      <th>allele_M</th>\n",
       "      <th>allele_M_CI</th>\n",
       "      <th>allele_W</th>\n",
       "      <th>allele_W_CI</th>\n",
       "      <th>general_W</th>\n",
       "      <th>general_W_CI</th>\n",
       "      <th>general_Ht</th>\n",
       "      <th>general_Ht_CI</th>\n",
       "      <th>general_M</th>\n",
       "      <th>general_M_CI</th>\n",
       "      <th>dominant_W</th>\n",
       "      <th>dominant_W_CI</th>\n",
       "      <th>dominant_Ht_M</th>\n",
       "      <th>dominant_Ht_M_CI</th>\n",
       "      <th>recessive_W_Ht</th>\n",
       "      <th>recessive_W_Ht_CI</th>\n",
       "      <th>recessive_M</th>\n",
       "      <th>recessive_M_CI</th>\n",
       "    </tr>\n",
       "  </thead>\n",
       "  <tbody>\n",
       "    <tr>\n",
       "      <th>rs225131_NC_000001.11_8035426T&gt;C</th>\n",
       "      <td>1.0485</td>\n",
       "      <td>(0.5045, 2.1853)</td>\n",
       "      <td>0.9537</td>\n",
       "      <td>(0.4576, 1.982)</td>\n",
       "      <td>0.7462</td>\n",
       "      <td>(0.2813, 1.9605)</td>\n",
       "      <td>1.669</td>\n",
       "      <td>(0.6312, 4.4997)</td>\n",
       "      <td>0.4531</td>\n",
       "      <td>(0.0387, 3.385)</td>\n",
       "      <td>0.7462</td>\n",
       "      <td>(0.2813, 1.9605)</td>\n",
       "      <td>1.34</td>\n",
       "      <td>(0.5101, 3.5549)</td>\n",
       "      <td>2.2069</td>\n",
       "      <td>(0.2954, 25.8068)</td>\n",
       "      <td>0.4531</td>\n",
       "      <td>(0.0387, 3.385)</td>\n",
       "    </tr>\n",
       "  </tbody>\n",
       "</table>\n",
       "</div>"
      ],
      "text/plain": [
       "                                 allele_M       allele_M_CI allele_W  \\\n",
       "rs225131_NC_000001.11_8035426T>C   1.0485  (0.5045, 2.1853)   0.9537   \n",
       "\n",
       "                                      allele_W_CI general_W      general_W_CI  \\\n",
       "rs225131_NC_000001.11_8035426T>C  (0.4576, 1.982)    0.7462  (0.2813, 1.9605)   \n",
       "\n",
       "                                 general_Ht     general_Ht_CI general_M  \\\n",
       "rs225131_NC_000001.11_8035426T>C      1.669  (0.6312, 4.4997)    0.4531   \n",
       "\n",
       "                                     general_M_CI dominant_W  \\\n",
       "rs225131_NC_000001.11_8035426T>C  (0.0387, 3.385)     0.7462   \n",
       "\n",
       "                                     dominant_W_CI dominant_Ht_M  \\\n",
       "rs225131_NC_000001.11_8035426T>C  (0.2813, 1.9605)          1.34   \n",
       "\n",
       "                                  dominant_Ht_M_CI recessive_W_Ht  \\\n",
       "rs225131_NC_000001.11_8035426T>C  (0.5101, 3.5549)         2.2069   \n",
       "\n",
       "                                  recessive_W_Ht_CI recessive_M  \\\n",
       "rs225131_NC_000001.11_8035426T>C  (0.2954, 25.8068)      0.4531   \n",
       "\n",
       "                                   recessive_M_CI  \n",
       "rs225131_NC_000001.11_8035426T>C  (0.0387, 3.385)  "
      ]
     },
     "execution_count": 7,
     "metadata": {},
     "output_type": "execute_result"
    }
   ],
   "source": [
    "res"
   ]
  },
  {
   "cell_type": "markdown",
   "metadata": {},
   "source": []
  },
  {
   "cell_type": "code",
   "execution_count": 8,
   "metadata": {},
   "outputs": [],
   "source": [
    "res.to_csv('./data/OR.csv')"
   ]
  },
  {
   "cell_type": "code",
   "execution_count": null,
   "metadata": {},
   "outputs": [],
   "source": []
  }
 ],
 "metadata": {
  "kernelspec": {
   "display_name": "Python 3",
   "language": "python",
   "name": "python3"
  },
  "language_info": {
   "codemirror_mode": {
    "name": "ipython",
    "version": 3
   },
   "file_extension": ".py",
   "mimetype": "text/x-python",
   "name": "python",
   "nbconvert_exporter": "python",
   "pygments_lexer": "ipython3",
   "version": "3.10.6"
  },
  "orig_nbformat": 4
 },
 "nbformat": 4,
 "nbformat_minor": 2
}

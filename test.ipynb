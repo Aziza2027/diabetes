{
 "cells": [
  {
   "attachments": {},
   "cell_type": "markdown",
   "metadata": {},
   "source": [
    "## Data analysis"
   ]
  },
  {
   "cell_type": "code",
   "execution_count": 6,
   "metadata": {},
   "outputs": [
    {
     "data": {
      "application/mercury+json": {
       "allow_download": true,
       "code_uid": "App.0.40.24.2-randf5beef92",
       "continuous_update": true,
       "description": "Showcase of Mercury Widgets",
       "full_screen": true,
       "model_id": "mercury-app",
       "notify": "{}",
       "output": "app",
       "schedule": "",
       "show_code": false,
       "show_prompt": false,
       "show_sidebar": true,
       "static_notebook": false,
       "title": "DataFrame & Plots 🚀",
       "widget": "App"
      },
      "text/html": [
       "<h3>Mercury Application</h3><small>This output won't appear in the web app.</small>"
      ],
      "text/plain": [
       "mercury.App"
      ]
     },
     "metadata": {},
     "output_type": "display_data"
    }
   ],
   "source": [
    "import mercury as mr\n",
    "app = mr.App(title=\"DataFrame & Plots 🚀\", description=\"Showcase of Mercury Widgets\", show_code = False)"
   ]
  },
  {
   "cell_type": "code",
   "execution_count": 7,
   "metadata": {},
   "outputs": [],
   "source": [
    "import pandas as pd"
   ]
  },
  {
   "cell_type": "code",
   "execution_count": 8,
   "metadata": {},
   "outputs": [
    {
     "data": {
      "text/html": [
       "<div>\n",
       "<style scoped>\n",
       "    .dataframe tbody tr th:only-of-type {\n",
       "        vertical-align: middle;\n",
       "    }\n",
       "\n",
       "    .dataframe tbody tr th {\n",
       "        vertical-align: top;\n",
       "    }\n",
       "\n",
       "    .dataframe thead th {\n",
       "        text-align: right;\n",
       "    }\n",
       "</style>\n",
       "<table border=\"1\" class=\"dataframe\">\n",
       "  <thead>\n",
       "    <tr style=\"text-align: right;\">\n",
       "      <th></th>\n",
       "      <th>rsid</th>\n",
       "      <th>pos</th>\n",
       "      <th>107</th>\n",
       "      <th>108</th>\n",
       "      <th>109</th>\n",
       "      <th>10</th>\n",
       "      <th>111</th>\n",
       "      <th>112</th>\n",
       "      <th>115</th>\n",
       "      <th>116</th>\n",
       "      <th>...</th>\n",
       "      <th>70</th>\n",
       "      <th>71</th>\n",
       "      <th>72</th>\n",
       "      <th>73</th>\n",
       "      <th>74</th>\n",
       "      <th>9</th>\n",
       "      <th>k12</th>\n",
       "      <th>k47</th>\n",
       "      <th>k50</th>\n",
       "      <th>k51</th>\n",
       "    </tr>\n",
       "  </thead>\n",
       "  <tbody>\n",
       "    <tr>\n",
       "      <th>0</th>\n",
       "      <td>rs225131</td>\n",
       "      <td>NC_000001.11_8035426T&gt;C</td>\n",
       "      <td>TC</td>\n",
       "      <td>TC</td>\n",
       "      <td>CC</td>\n",
       "      <td>TT</td>\n",
       "      <td>TC</td>\n",
       "      <td>TC</td>\n",
       "      <td>CC</td>\n",
       "      <td>TT</td>\n",
       "      <td>...</td>\n",
       "      <td>TC</td>\n",
       "      <td>TT</td>\n",
       "      <td>TC</td>\n",
       "      <td>TC</td>\n",
       "      <td>TT</td>\n",
       "      <td>TT</td>\n",
       "      <td>TT</td>\n",
       "      <td>CC</td>\n",
       "      <td>TC</td>\n",
       "      <td>TT</td>\n",
       "    </tr>\n",
       "    <tr>\n",
       "      <th>1</th>\n",
       "      <td>rs225132</td>\n",
       "      <td>NC_000001.11_8035440T&gt;G</td>\n",
       "      <td>TG</td>\n",
       "      <td>TG</td>\n",
       "      <td>GG</td>\n",
       "      <td>TT</td>\n",
       "      <td>TG</td>\n",
       "      <td>TG</td>\n",
       "      <td>GG</td>\n",
       "      <td>TT</td>\n",
       "      <td>...</td>\n",
       "      <td>TG</td>\n",
       "      <td>TT</td>\n",
       "      <td>TG</td>\n",
       "      <td>TG</td>\n",
       "      <td>TT</td>\n",
       "      <td>TT</td>\n",
       "      <td>TT</td>\n",
       "      <td>GG</td>\n",
       "      <td>TG</td>\n",
       "      <td>TT</td>\n",
       "    </tr>\n",
       "    <tr>\n",
       "      <th>2</th>\n",
       "      <td>rs17367504</td>\n",
       "      <td>NC_000001.11_11802721A&gt;G</td>\n",
       "      <td>AG</td>\n",
       "      <td>AG</td>\n",
       "      <td>AA</td>\n",
       "      <td>AA</td>\n",
       "      <td>AA</td>\n",
       "      <td>AG</td>\n",
       "      <td>AA</td>\n",
       "      <td>AA</td>\n",
       "      <td>...</td>\n",
       "      <td>AA</td>\n",
       "      <td>AA</td>\n",
       "      <td>AG</td>\n",
       "      <td>AA</td>\n",
       "      <td>AG</td>\n",
       "      <td>AA</td>\n",
       "      <td>AA</td>\n",
       "      <td>AA</td>\n",
       "      <td>AG</td>\n",
       "      <td>AA</td>\n",
       "    </tr>\n",
       "    <tr>\n",
       "      <th>3</th>\n",
       "      <td>rs2024758</td>\n",
       "      <td>NC_000001.11_15981917A&gt;G</td>\n",
       "      <td>AG</td>\n",
       "      <td>AG</td>\n",
       "      <td>AA</td>\n",
       "      <td>GG</td>\n",
       "      <td>AA</td>\n",
       "      <td>AG</td>\n",
       "      <td>GG</td>\n",
       "      <td>GG</td>\n",
       "      <td>...</td>\n",
       "      <td>GG</td>\n",
       "      <td>GG</td>\n",
       "      <td>AG</td>\n",
       "      <td>AG</td>\n",
       "      <td>AA</td>\n",
       "      <td>AG</td>\n",
       "      <td>NaN</td>\n",
       "      <td>AG</td>\n",
       "      <td>AG</td>\n",
       "      <td>AA</td>\n",
       "    </tr>\n",
       "    <tr>\n",
       "      <th>4</th>\n",
       "      <td>rs848309</td>\n",
       "      <td>NC_000001.11_15981952T&gt;C</td>\n",
       "      <td>TC</td>\n",
       "      <td>TC</td>\n",
       "      <td>TT</td>\n",
       "      <td>CC</td>\n",
       "      <td>TT</td>\n",
       "      <td>TC</td>\n",
       "      <td>CC</td>\n",
       "      <td>CC</td>\n",
       "      <td>...</td>\n",
       "      <td>CC</td>\n",
       "      <td>CC</td>\n",
       "      <td>TC</td>\n",
       "      <td>TC</td>\n",
       "      <td>TT</td>\n",
       "      <td>TC</td>\n",
       "      <td>CC</td>\n",
       "      <td>TC</td>\n",
       "      <td>TC</td>\n",
       "      <td>TC</td>\n",
       "    </tr>\n",
       "    <tr>\n",
       "      <th>...</th>\n",
       "      <td>...</td>\n",
       "      <td>...</td>\n",
       "      <td>...</td>\n",
       "      <td>...</td>\n",
       "      <td>...</td>\n",
       "      <td>...</td>\n",
       "      <td>...</td>\n",
       "      <td>...</td>\n",
       "      <td>...</td>\n",
       "      <td>...</td>\n",
       "      <td>...</td>\n",
       "      <td>...</td>\n",
       "      <td>...</td>\n",
       "      <td>...</td>\n",
       "      <td>...</td>\n",
       "      <td>...</td>\n",
       "      <td>...</td>\n",
       "      <td>...</td>\n",
       "      <td>...</td>\n",
       "      <td>...</td>\n",
       "      <td>...</td>\n",
       "    </tr>\n",
       "    <tr>\n",
       "      <th>591</th>\n",
       "      <td>rs181362</td>\n",
       "      <td>NC_000022.11_21577779C&gt;T</td>\n",
       "      <td>CC</td>\n",
       "      <td>CT</td>\n",
       "      <td>CT</td>\n",
       "      <td>CT</td>\n",
       "      <td>CC</td>\n",
       "      <td>CC</td>\n",
       "      <td>CC</td>\n",
       "      <td>CC</td>\n",
       "      <td>...</td>\n",
       "      <td>CT</td>\n",
       "      <td>CC</td>\n",
       "      <td>CC</td>\n",
       "      <td>CT</td>\n",
       "      <td>CC</td>\n",
       "      <td>CC</td>\n",
       "      <td>CC</td>\n",
       "      <td>CT</td>\n",
       "      <td>CT</td>\n",
       "      <td>CC</td>\n",
       "    </tr>\n",
       "    <tr>\n",
       "      <th>592</th>\n",
       "      <td>rs5756931</td>\n",
       "      <td>NC_000022.11_38150026T&gt;C</td>\n",
       "      <td>TT</td>\n",
       "      <td>TC</td>\n",
       "      <td>CC</td>\n",
       "      <td>TT</td>\n",
       "      <td>TC</td>\n",
       "      <td>TC</td>\n",
       "      <td>TC</td>\n",
       "      <td>TC</td>\n",
       "      <td>...</td>\n",
       "      <td>TC</td>\n",
       "      <td>TC</td>\n",
       "      <td>TC</td>\n",
       "      <td>TC</td>\n",
       "      <td>CC</td>\n",
       "      <td>TT</td>\n",
       "      <td>TC</td>\n",
       "      <td>TC</td>\n",
       "      <td>TT</td>\n",
       "      <td>CC</td>\n",
       "    </tr>\n",
       "    <tr>\n",
       "      <th>593</th>\n",
       "      <td>rs5756932</td>\n",
       "      <td>NC_000022.11_38150111C&gt;T</td>\n",
       "      <td>CC</td>\n",
       "      <td>CT</td>\n",
       "      <td>CT</td>\n",
       "      <td>CC</td>\n",
       "      <td>TT</td>\n",
       "      <td>CT</td>\n",
       "      <td>CT</td>\n",
       "      <td>CT</td>\n",
       "      <td>...</td>\n",
       "      <td>CT</td>\n",
       "      <td>CT</td>\n",
       "      <td>CT</td>\n",
       "      <td>CT</td>\n",
       "      <td>TT</td>\n",
       "      <td>CC</td>\n",
       "      <td>CT</td>\n",
       "      <td>CT</td>\n",
       "      <td>CC</td>\n",
       "      <td>TT</td>\n",
       "    </tr>\n",
       "    <tr>\n",
       "      <th>594</th>\n",
       "      <td>rs116863293</td>\n",
       "      <td>NC_000022.11_38150112G&gt;A</td>\n",
       "      <td>GG</td>\n",
       "      <td>GA</td>\n",
       "      <td>GG</td>\n",
       "      <td>GG</td>\n",
       "      <td>GG</td>\n",
       "      <td>GG</td>\n",
       "      <td>GG</td>\n",
       "      <td>GG</td>\n",
       "      <td>...</td>\n",
       "      <td>GG</td>\n",
       "      <td>GA</td>\n",
       "      <td>GG</td>\n",
       "      <td>GG</td>\n",
       "      <td>GG</td>\n",
       "      <td>GG</td>\n",
       "      <td>GG</td>\n",
       "      <td>GG</td>\n",
       "      <td>GG</td>\n",
       "      <td>GG</td>\n",
       "    </tr>\n",
       "    <tr>\n",
       "      <th>595</th>\n",
       "      <td>rs28451064</td>\n",
       "      <td>NC_000021.9_34221526G&gt;A</td>\n",
       "      <td>GG</td>\n",
       "      <td>GG</td>\n",
       "      <td>GG</td>\n",
       "      <td>GA</td>\n",
       "      <td>GG</td>\n",
       "      <td>GA</td>\n",
       "      <td>GG</td>\n",
       "      <td>GG</td>\n",
       "      <td>...</td>\n",
       "      <td>GG</td>\n",
       "      <td>GG</td>\n",
       "      <td>GA</td>\n",
       "      <td>GG</td>\n",
       "      <td>GG</td>\n",
       "      <td>GG</td>\n",
       "      <td>NaN</td>\n",
       "      <td>GG</td>\n",
       "      <td>GG</td>\n",
       "      <td>GA</td>\n",
       "    </tr>\n",
       "  </tbody>\n",
       "</table>\n",
       "<p>596 rows × 98 columns</p>\n",
       "</div>"
      ],
      "text/plain": [
       "            rsid                       pos 107 108 109  10 111 112 115 116  \\\n",
       "0       rs225131   NC_000001.11_8035426T>C  TC  TC  CC  TT  TC  TC  CC  TT   \n",
       "1       rs225132   NC_000001.11_8035440T>G  TG  TG  GG  TT  TG  TG  GG  TT   \n",
       "2     rs17367504  NC_000001.11_11802721A>G  AG  AG  AA  AA  AA  AG  AA  AA   \n",
       "3      rs2024758  NC_000001.11_15981917A>G  AG  AG  AA  GG  AA  AG  GG  GG   \n",
       "4       rs848309  NC_000001.11_15981952T>C  TC  TC  TT  CC  TT  TC  CC  CC   \n",
       "..           ...                       ...  ..  ..  ..  ..  ..  ..  ..  ..   \n",
       "591     rs181362  NC_000022.11_21577779C>T  CC  CT  CT  CT  CC  CC  CC  CC   \n",
       "592    rs5756931  NC_000022.11_38150026T>C  TT  TC  CC  TT  TC  TC  TC  TC   \n",
       "593    rs5756932  NC_000022.11_38150111C>T  CC  CT  CT  CC  TT  CT  CT  CT   \n",
       "594  rs116863293  NC_000022.11_38150112G>A  GG  GA  GG  GG  GG  GG  GG  GG   \n",
       "595   rs28451064   NC_000021.9_34221526G>A  GG  GG  GG  GA  GG  GA  GG  GG   \n",
       "\n",
       "     ...  70  71  72  73  74   9  k12 k47 k50  k51  \n",
       "0    ...  TC  TT  TC  TC  TT  TT   TT  CC  TC   TT  \n",
       "1    ...  TG  TT  TG  TG  TT  TT   TT  GG  TG   TT  \n",
       "2    ...  AA  AA  AG  AA  AG  AA   AA  AA  AG   AA  \n",
       "3    ...  GG  GG  AG  AG  AA  AG  NaN  AG  AG   AA  \n",
       "4    ...  CC  CC  TC  TC  TT  TC   CC  TC  TC   TC  \n",
       "..   ...  ..  ..  ..  ..  ..  ..  ...  ..  ..  ...  \n",
       "591  ...  CT  CC  CC  CT  CC  CC   CC  CT  CT   CC  \n",
       "592  ...  TC  TC  TC  TC  CC  TT   TC  TC  TT   CC  \n",
       "593  ...  CT  CT  CT  CT  TT  CC   CT  CT  CC   TT  \n",
       "594  ...  GG  GA  GG  GG  GG  GG   GG  GG  GG   GG  \n",
       "595  ...  GG  GG  GA  GG  GG  GG  NaN  GG  GG   GA  \n",
       "\n",
       "[596 rows x 98 columns]"
      ]
     },
     "execution_count": 8,
     "metadata": {},
     "output_type": "execute_result"
    }
   ],
   "source": [
    "pd.read_csv('./data/data.csv')"
   ]
  },
  {
   "cell_type": "code",
   "execution_count": 12,
   "metadata": {},
   "outputs": [
    {
     "data": {
      "application/vnd.plotly.v1+json": {
       "config": {
        "plotlyServerURL": "https://plot.ly"
       },
       "data": [
        {
         "mode": "lines",
         "type": "scatter",
         "x": [
          1,
          2,
          3,
          4,
          5
         ],
         "y": [
          2,
          3,
          1,
          5,
          4
         ]
        }
       ],
       "layout": {
        "template": {
         "data": {
          "bar": [
           {
            "error_x": {
             "color": "#2a3f5f"
            },
            "error_y": {
             "color": "#2a3f5f"
            },
            "marker": {
             "line": {
              "color": "#E5ECF6",
              "width": 0.5
             },
             "pattern": {
              "fillmode": "overlay",
              "size": 10,
              "solidity": 0.2
             }
            },
            "type": "bar"
           }
          ],
          "barpolar": [
           {
            "marker": {
             "line": {
              "color": "#E5ECF6",
              "width": 0.5
             },
             "pattern": {
              "fillmode": "overlay",
              "size": 10,
              "solidity": 0.2
             }
            },
            "type": "barpolar"
           }
          ],
          "carpet": [
           {
            "aaxis": {
             "endlinecolor": "#2a3f5f",
             "gridcolor": "white",
             "linecolor": "white",
             "minorgridcolor": "white",
             "startlinecolor": "#2a3f5f"
            },
            "baxis": {
             "endlinecolor": "#2a3f5f",
             "gridcolor": "white",
             "linecolor": "white",
             "minorgridcolor": "white",
             "startlinecolor": "#2a3f5f"
            },
            "type": "carpet"
           }
          ],
          "choropleth": [
           {
            "colorbar": {
             "outlinewidth": 0,
             "ticks": ""
            },
            "type": "choropleth"
           }
          ],
          "contour": [
           {
            "colorbar": {
             "outlinewidth": 0,
             "ticks": ""
            },
            "colorscale": [
             [
              0,
              "#0d0887"
             ],
             [
              0.1111111111111111,
              "#46039f"
             ],
             [
              0.2222222222222222,
              "#7201a8"
             ],
             [
              0.3333333333333333,
              "#9c179e"
             ],
             [
              0.4444444444444444,
              "#bd3786"
             ],
             [
              0.5555555555555556,
              "#d8576b"
             ],
             [
              0.6666666666666666,
              "#ed7953"
             ],
             [
              0.7777777777777778,
              "#fb9f3a"
             ],
             [
              0.8888888888888888,
              "#fdca26"
             ],
             [
              1,
              "#f0f921"
             ]
            ],
            "type": "contour"
           }
          ],
          "contourcarpet": [
           {
            "colorbar": {
             "outlinewidth": 0,
             "ticks": ""
            },
            "type": "contourcarpet"
           }
          ],
          "heatmap": [
           {
            "colorbar": {
             "outlinewidth": 0,
             "ticks": ""
            },
            "colorscale": [
             [
              0,
              "#0d0887"
             ],
             [
              0.1111111111111111,
              "#46039f"
             ],
             [
              0.2222222222222222,
              "#7201a8"
             ],
             [
              0.3333333333333333,
              "#9c179e"
             ],
             [
              0.4444444444444444,
              "#bd3786"
             ],
             [
              0.5555555555555556,
              "#d8576b"
             ],
             [
              0.6666666666666666,
              "#ed7953"
             ],
             [
              0.7777777777777778,
              "#fb9f3a"
             ],
             [
              0.8888888888888888,
              "#fdca26"
             ],
             [
              1,
              "#f0f921"
             ]
            ],
            "type": "heatmap"
           }
          ],
          "heatmapgl": [
           {
            "colorbar": {
             "outlinewidth": 0,
             "ticks": ""
            },
            "colorscale": [
             [
              0,
              "#0d0887"
             ],
             [
              0.1111111111111111,
              "#46039f"
             ],
             [
              0.2222222222222222,
              "#7201a8"
             ],
             [
              0.3333333333333333,
              "#9c179e"
             ],
             [
              0.4444444444444444,
              "#bd3786"
             ],
             [
              0.5555555555555556,
              "#d8576b"
             ],
             [
              0.6666666666666666,
              "#ed7953"
             ],
             [
              0.7777777777777778,
              "#fb9f3a"
             ],
             [
              0.8888888888888888,
              "#fdca26"
             ],
             [
              1,
              "#f0f921"
             ]
            ],
            "type": "heatmapgl"
           }
          ],
          "histogram": [
           {
            "marker": {
             "pattern": {
              "fillmode": "overlay",
              "size": 10,
              "solidity": 0.2
             }
            },
            "type": "histogram"
           }
          ],
          "histogram2d": [
           {
            "colorbar": {
             "outlinewidth": 0,
             "ticks": ""
            },
            "colorscale": [
             [
              0,
              "#0d0887"
             ],
             [
              0.1111111111111111,
              "#46039f"
             ],
             [
              0.2222222222222222,
              "#7201a8"
             ],
             [
              0.3333333333333333,
              "#9c179e"
             ],
             [
              0.4444444444444444,
              "#bd3786"
             ],
             [
              0.5555555555555556,
              "#d8576b"
             ],
             [
              0.6666666666666666,
              "#ed7953"
             ],
             [
              0.7777777777777778,
              "#fb9f3a"
             ],
             [
              0.8888888888888888,
              "#fdca26"
             ],
             [
              1,
              "#f0f921"
             ]
            ],
            "type": "histogram2d"
           }
          ],
          "histogram2dcontour": [
           {
            "colorbar": {
             "outlinewidth": 0,
             "ticks": ""
            },
            "colorscale": [
             [
              0,
              "#0d0887"
             ],
             [
              0.1111111111111111,
              "#46039f"
             ],
             [
              0.2222222222222222,
              "#7201a8"
             ],
             [
              0.3333333333333333,
              "#9c179e"
             ],
             [
              0.4444444444444444,
              "#bd3786"
             ],
             [
              0.5555555555555556,
              "#d8576b"
             ],
             [
              0.6666666666666666,
              "#ed7953"
             ],
             [
              0.7777777777777778,
              "#fb9f3a"
             ],
             [
              0.8888888888888888,
              "#fdca26"
             ],
             [
              1,
              "#f0f921"
             ]
            ],
            "type": "histogram2dcontour"
           }
          ],
          "mesh3d": [
           {
            "colorbar": {
             "outlinewidth": 0,
             "ticks": ""
            },
            "type": "mesh3d"
           }
          ],
          "parcoords": [
           {
            "line": {
             "colorbar": {
              "outlinewidth": 0,
              "ticks": ""
             }
            },
            "type": "parcoords"
           }
          ],
          "pie": [
           {
            "automargin": true,
            "type": "pie"
           }
          ],
          "scatter": [
           {
            "fillpattern": {
             "fillmode": "overlay",
             "size": 10,
             "solidity": 0.2
            },
            "type": "scatter"
           }
          ],
          "scatter3d": [
           {
            "line": {
             "colorbar": {
              "outlinewidth": 0,
              "ticks": ""
             }
            },
            "marker": {
             "colorbar": {
              "outlinewidth": 0,
              "ticks": ""
             }
            },
            "type": "scatter3d"
           }
          ],
          "scattercarpet": [
           {
            "marker": {
             "colorbar": {
              "outlinewidth": 0,
              "ticks": ""
             }
            },
            "type": "scattercarpet"
           }
          ],
          "scattergeo": [
           {
            "marker": {
             "colorbar": {
              "outlinewidth": 0,
              "ticks": ""
             }
            },
            "type": "scattergeo"
           }
          ],
          "scattergl": [
           {
            "marker": {
             "colorbar": {
              "outlinewidth": 0,
              "ticks": ""
             }
            },
            "type": "scattergl"
           }
          ],
          "scattermapbox": [
           {
            "marker": {
             "colorbar": {
              "outlinewidth": 0,
              "ticks": ""
             }
            },
            "type": "scattermapbox"
           }
          ],
          "scatterpolar": [
           {
            "marker": {
             "colorbar": {
              "outlinewidth": 0,
              "ticks": ""
             }
            },
            "type": "scatterpolar"
           }
          ],
          "scatterpolargl": [
           {
            "marker": {
             "colorbar": {
              "outlinewidth": 0,
              "ticks": ""
             }
            },
            "type": "scatterpolargl"
           }
          ],
          "scatterternary": [
           {
            "marker": {
             "colorbar": {
              "outlinewidth": 0,
              "ticks": ""
             }
            },
            "type": "scatterternary"
           }
          ],
          "surface": [
           {
            "colorbar": {
             "outlinewidth": 0,
             "ticks": ""
            },
            "colorscale": [
             [
              0,
              "#0d0887"
             ],
             [
              0.1111111111111111,
              "#46039f"
             ],
             [
              0.2222222222222222,
              "#7201a8"
             ],
             [
              0.3333333333333333,
              "#9c179e"
             ],
             [
              0.4444444444444444,
              "#bd3786"
             ],
             [
              0.5555555555555556,
              "#d8576b"
             ],
             [
              0.6666666666666666,
              "#ed7953"
             ],
             [
              0.7777777777777778,
              "#fb9f3a"
             ],
             [
              0.8888888888888888,
              "#fdca26"
             ],
             [
              1,
              "#f0f921"
             ]
            ],
            "type": "surface"
           }
          ],
          "table": [
           {
            "cells": {
             "fill": {
              "color": "#EBF0F8"
             },
             "line": {
              "color": "white"
             }
            },
            "header": {
             "fill": {
              "color": "#C8D4E3"
             },
             "line": {
              "color": "white"
             }
            },
            "type": "table"
           }
          ]
         },
         "layout": {
          "annotationdefaults": {
           "arrowcolor": "#2a3f5f",
           "arrowhead": 0,
           "arrowwidth": 1
          },
          "autotypenumbers": "strict",
          "coloraxis": {
           "colorbar": {
            "outlinewidth": 0,
            "ticks": ""
           }
          },
          "colorscale": {
           "diverging": [
            [
             0,
             "#8e0152"
            ],
            [
             0.1,
             "#c51b7d"
            ],
            [
             0.2,
             "#de77ae"
            ],
            [
             0.3,
             "#f1b6da"
            ],
            [
             0.4,
             "#fde0ef"
            ],
            [
             0.5,
             "#f7f7f7"
            ],
            [
             0.6,
             "#e6f5d0"
            ],
            [
             0.7,
             "#b8e186"
            ],
            [
             0.8,
             "#7fbc41"
            ],
            [
             0.9,
             "#4d9221"
            ],
            [
             1,
             "#276419"
            ]
           ],
           "sequential": [
            [
             0,
             "#0d0887"
            ],
            [
             0.1111111111111111,
             "#46039f"
            ],
            [
             0.2222222222222222,
             "#7201a8"
            ],
            [
             0.3333333333333333,
             "#9c179e"
            ],
            [
             0.4444444444444444,
             "#bd3786"
            ],
            [
             0.5555555555555556,
             "#d8576b"
            ],
            [
             0.6666666666666666,
             "#ed7953"
            ],
            [
             0.7777777777777778,
             "#fb9f3a"
            ],
            [
             0.8888888888888888,
             "#fdca26"
            ],
            [
             1,
             "#f0f921"
            ]
           ],
           "sequentialminus": [
            [
             0,
             "#0d0887"
            ],
            [
             0.1111111111111111,
             "#46039f"
            ],
            [
             0.2222222222222222,
             "#7201a8"
            ],
            [
             0.3333333333333333,
             "#9c179e"
            ],
            [
             0.4444444444444444,
             "#bd3786"
            ],
            [
             0.5555555555555556,
             "#d8576b"
            ],
            [
             0.6666666666666666,
             "#ed7953"
            ],
            [
             0.7777777777777778,
             "#fb9f3a"
            ],
            [
             0.8888888888888888,
             "#fdca26"
            ],
            [
             1,
             "#f0f921"
            ]
           ]
          },
          "colorway": [
           "#636efa",
           "#EF553B",
           "#00cc96",
           "#ab63fa",
           "#FFA15A",
           "#19d3f3",
           "#FF6692",
           "#B6E880",
           "#FF97FF",
           "#FECB52"
          ],
          "font": {
           "color": "#2a3f5f"
          },
          "geo": {
           "bgcolor": "white",
           "lakecolor": "white",
           "landcolor": "#E5ECF6",
           "showlakes": true,
           "showland": true,
           "subunitcolor": "white"
          },
          "hoverlabel": {
           "align": "left"
          },
          "hovermode": "closest",
          "mapbox": {
           "style": "light"
          },
          "paper_bgcolor": "white",
          "plot_bgcolor": "#E5ECF6",
          "polar": {
           "angularaxis": {
            "gridcolor": "white",
            "linecolor": "white",
            "ticks": ""
           },
           "bgcolor": "#E5ECF6",
           "radialaxis": {
            "gridcolor": "white",
            "linecolor": "white",
            "ticks": ""
           }
          },
          "scene": {
           "xaxis": {
            "backgroundcolor": "#E5ECF6",
            "gridcolor": "white",
            "gridwidth": 2,
            "linecolor": "white",
            "showbackground": true,
            "ticks": "",
            "zerolinecolor": "white"
           },
           "yaxis": {
            "backgroundcolor": "#E5ECF6",
            "gridcolor": "white",
            "gridwidth": 2,
            "linecolor": "white",
            "showbackground": true,
            "ticks": "",
            "zerolinecolor": "white"
           },
           "zaxis": {
            "backgroundcolor": "#E5ECF6",
            "gridcolor": "white",
            "gridwidth": 2,
            "linecolor": "white",
            "showbackground": true,
            "ticks": "",
            "zerolinecolor": "white"
           }
          },
          "shapedefaults": {
           "line": {
            "color": "#2a3f5f"
           }
          },
          "ternary": {
           "aaxis": {
            "gridcolor": "white",
            "linecolor": "white",
            "ticks": ""
           },
           "baxis": {
            "gridcolor": "white",
            "linecolor": "white",
            "ticks": ""
           },
           "bgcolor": "#E5ECF6",
           "caxis": {
            "gridcolor": "white",
            "linecolor": "white",
            "ticks": ""
           }
          },
          "title": {
           "x": 0.05
          },
          "xaxis": {
           "automargin": true,
           "gridcolor": "white",
           "linecolor": "white",
           "ticks": "",
           "title": {
            "standoff": 15
           },
           "zerolinecolor": "white",
           "zerolinewidth": 2
          },
          "yaxis": {
           "automargin": true,
           "gridcolor": "white",
           "linecolor": "white",
           "ticks": "",
           "title": {
            "standoff": 15
           },
           "zerolinecolor": "white",
           "zerolinewidth": 2
          }
         }
        },
        "title": {
         "text": "My Scatter Plot"
        },
        "xaxis": {
         "title": {
          "text": "X Axis"
         }
        },
        "yaxis": {
         "title": {
          "text": "Y Axis"
         }
        }
       }
      }
     },
     "metadata": {},
     "output_type": "display_data"
    }
   ],
   "source": [
    "\n",
    "import plotly.graph_objects as go\n",
    "\n",
    "# Create data\n",
    "x = [1, 2, 3, 4, 5]\n",
    "y = [2, 3, 1, 5, 4]\n",
    "\n",
    "# Create trace\n",
    "trace = go.Line(x=x, y=y, mode='lines')\n",
    "\n",
    "# Create layout\n",
    "layout = go.Layout(title='My Scatter Plot', xaxis_title='X Axis', yaxis_title='Y Axis')\n",
    "\n",
    "# Create figure\n",
    "fig = go.Figure(data=[trace], layout=layout)\n",
    "\n",
    "# Show plot\n",
    "fig.show()\n"
   ]
  },
  {
   "cell_type": "code",
   "execution_count": null,
   "metadata": {},
   "outputs": [],
   "source": []
  }
 ],
 "metadata": {
  "kernelspec": {
   "display_name": "Python 3",
   "language": "python",
   "name": "python3"
  },
  "language_info": {
   "codemirror_mode": {
    "name": "ipython",
    "version": 3
   },
   "file_extension": ".py",
   "mimetype": "text/x-python",
   "name": "python",
   "nbconvert_exporter": "python",
   "pygments_lexer": "ipython3",
   "version": "3.10.6"
  },
  "orig_nbformat": 4
 },
 "nbformat": 4,
 "nbformat_minor": 2
}

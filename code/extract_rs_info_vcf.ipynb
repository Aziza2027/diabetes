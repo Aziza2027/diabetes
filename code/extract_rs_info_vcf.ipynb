{
 "cells": [
  {
   "cell_type": "code",
   "execution_count": 2,
   "metadata": {},
   "outputs": [],
   "source": [
    "import pandas as pd\n",
    "import numpy as np"
   ]
  },
  {
   "cell_type": "code",
   "execution_count": 3,
   "metadata": {},
   "outputs": [],
   "source": [
    "\n",
    "def read_vcf(data_path):\n",
    "    df = pd.read_csv(DATA_PATH, delimiter=' ')\n",
    "    df = df[['#[1]CHROM','[2]POS', '[3]ID']]\n",
    "    df.columns = ['chr','pos', 'rs']\n",
    "    chr = df.chr.str.split('.').str[0].str.split('_').str[1].astype(int)\n",
    "\n",
    "    df.chr = chr\n",
    "    # df[df.chr<24]\n",
    "\n",
    "    return df\n",
    "DATA_PATH = './data/SNP_with_id.vcf'\n",
    "\n",
    "df = read_vcf(DATA_PATH)\n",
    "df.to_csv('./data/rs_info.csv', index=False)"
   ]
  },
  {
   "cell_type": "code",
   "execution_count": 4,
   "metadata": {},
   "outputs": [],
   "source": [
    "def get_rs_info(rs):\n",
    "    info = pd.read_csv('./data/rs_info.csv')\n",
    "\n",
    "    info = pd.merge(rs, info, on='rs')\n",
    "\n",
    "    pos = info.pos\n",
    "    chr = info.chr\n",
    "\n",
    "    return chr, pos"
   ]
  },
  {
   "cell_type": "code",
   "execution_count": 5,
   "metadata": {},
   "outputs": [],
   "source": [
    "info = pd.read_csv('./data/rs_info.csv')"
   ]
  },
  {
   "cell_type": "code",
   "execution_count": 6,
   "metadata": {},
   "outputs": [
    {
     "data": {
      "text/html": [
       "<div>\n",
       "<style scoped>\n",
       "    .dataframe tbody tr th:only-of-type {\n",
       "        vertical-align: middle;\n",
       "    }\n",
       "\n",
       "    .dataframe tbody tr th {\n",
       "        vertical-align: top;\n",
       "    }\n",
       "\n",
       "    .dataframe thead th {\n",
       "        text-align: right;\n",
       "    }\n",
       "</style>\n",
       "<table border=\"1\" class=\"dataframe\">\n",
       "  <thead>\n",
       "    <tr style=\"text-align: right;\">\n",
       "      <th></th>\n",
       "      <th>chr</th>\n",
       "      <th>pos</th>\n",
       "      <th>rs</th>\n",
       "    </tr>\n",
       "  </thead>\n",
       "  <tbody>\n",
       "    <tr>\n",
       "      <th>0</th>\n",
       "      <td>1</td>\n",
       "      <td>5046879</td>\n",
       "      <td>rs12027985</td>\n",
       "    </tr>\n",
       "    <tr>\n",
       "      <th>1</th>\n",
       "      <td>1</td>\n",
       "      <td>5116921</td>\n",
       "      <td>rs10799167</td>\n",
       "    </tr>\n",
       "    <tr>\n",
       "      <th>2</th>\n",
       "      <td>1</td>\n",
       "      <td>10736809</td>\n",
       "      <td>rs880315</td>\n",
       "    </tr>\n",
       "    <tr>\n",
       "      <th>3</th>\n",
       "      <td>1</td>\n",
       "      <td>15981917</td>\n",
       "      <td>rs2024758</td>\n",
       "    </tr>\n",
       "    <tr>\n",
       "      <th>4</th>\n",
       "      <td>1</td>\n",
       "      <td>15981952</td>\n",
       "      <td>rs848309</td>\n",
       "    </tr>\n",
       "    <tr>\n",
       "      <th>...</th>\n",
       "      <td>...</td>\n",
       "      <td>...</td>\n",
       "      <td>...</td>\n",
       "    </tr>\n",
       "    <tr>\n",
       "      <th>3168</th>\n",
       "      <td>14040929</td>\n",
       "      <td>163132</td>\n",
       "      <td>rs57014807</td>\n",
       "    </tr>\n",
       "    <tr>\n",
       "      <th>3169</th>\n",
       "      <td>14040929</td>\n",
       "      <td>163133</td>\n",
       "      <td>rs59831173</td>\n",
       "    </tr>\n",
       "    <tr>\n",
       "      <th>3170</th>\n",
       "      <td>187533</td>\n",
       "      <td>163049</td>\n",
       "      <td>rs12497267</td>\n",
       "    </tr>\n",
       "    <tr>\n",
       "      <th>3171</th>\n",
       "      <td>187533</td>\n",
       "      <td>163143</td>\n",
       "      <td>rs12493885</td>\n",
       "    </tr>\n",
       "    <tr>\n",
       "      <th>3172</th>\n",
       "      <td>12920</td>\n",
       "      <td>709</td>\n",
       "      <td>rs2853517</td>\n",
       "    </tr>\n",
       "  </tbody>\n",
       "</table>\n",
       "<p>3173 rows × 3 columns</p>\n",
       "</div>"
      ],
      "text/plain": [
       "           chr       pos          rs\n",
       "0            1   5046879  rs12027985\n",
       "1            1   5116921  rs10799167\n",
       "2            1  10736809    rs880315\n",
       "3            1  15981917   rs2024758\n",
       "4            1  15981952    rs848309\n",
       "...        ...       ...         ...\n",
       "3168  14040929    163132  rs57014807\n",
       "3169  14040929    163133  rs59831173\n",
       "3170    187533    163049  rs12497267\n",
       "3171    187533    163143  rs12493885\n",
       "3172     12920       709   rs2853517\n",
       "\n",
       "[3173 rows x 3 columns]"
      ]
     },
     "execution_count": 6,
     "metadata": {},
     "output_type": "execute_result"
    }
   ],
   "source": [
    "info"
   ]
  },
  {
   "cell_type": "code",
   "execution_count": 19,
   "metadata": {},
   "outputs": [
    {
     "data": {
      "text/html": [
       "<div>\n",
       "<style scoped>\n",
       "    .dataframe tbody tr th:only-of-type {\n",
       "        vertical-align: middle;\n",
       "    }\n",
       "\n",
       "    .dataframe tbody tr th {\n",
       "        vertical-align: top;\n",
       "    }\n",
       "\n",
       "    .dataframe thead th {\n",
       "        text-align: right;\n",
       "    }\n",
       "</style>\n",
       "<table border=\"1\" class=\"dataframe\">\n",
       "  <thead>\n",
       "    <tr style=\"text-align: right;\">\n",
       "      <th></th>\n",
       "      <th>chr</th>\n",
       "      <th>pos</th>\n",
       "      <th>rs</th>\n",
       "    </tr>\n",
       "  </thead>\n",
       "  <tbody>\n",
       "    <tr>\n",
       "      <th>616</th>\n",
       "      <td>3</td>\n",
       "      <td>154122077</td>\n",
       "      <td>rs12493885</td>\n",
       "    </tr>\n",
       "    <tr>\n",
       "      <th>3171</th>\n",
       "      <td>187533</td>\n",
       "      <td>163143</td>\n",
       "      <td>rs12493885</td>\n",
       "    </tr>\n",
       "  </tbody>\n",
       "</table>\n",
       "</div>"
      ],
      "text/plain": [
       "         chr        pos          rs\n",
       "616        3  154122077  rs12493885\n",
       "3171  187533     163143  rs12493885"
      ]
     },
     "execution_count": 19,
     "metadata": {},
     "output_type": "execute_result"
    }
   ],
   "source": [
    "info[info.rs=='rs12493885']"
   ]
  },
  {
   "cell_type": "code",
   "execution_count": 15,
   "metadata": {},
   "outputs": [
    {
     "data": {
      "text/plain": [
       "0      rs880315\n",
       "1    rs12027985\n",
       "2     rs2853517\n",
       "3    rs12493885\n",
       "Name: rs, dtype: object"
      ]
     },
     "execution_count": 15,
     "metadata": {},
     "output_type": "execute_result"
    }
   ],
   "source": [
    "rsR = pd.Series(['rs880315', 'rs12027985', 'rs2853517','rs12493885'], name='rs')\n",
    "rsR"
   ]
  },
  {
   "cell_type": "code",
   "execution_count": 18,
   "metadata": {},
   "outputs": [
    {
     "data": {
      "text/html": [
       "<div>\n",
       "<style scoped>\n",
       "    .dataframe tbody tr th:only-of-type {\n",
       "        vertical-align: middle;\n",
       "    }\n",
       "\n",
       "    .dataframe tbody tr th {\n",
       "        vertical-align: top;\n",
       "    }\n",
       "\n",
       "    .dataframe thead th {\n",
       "        text-align: right;\n",
       "    }\n",
       "</style>\n",
       "<table border=\"1\" class=\"dataframe\">\n",
       "  <thead>\n",
       "    <tr style=\"text-align: right;\">\n",
       "      <th></th>\n",
       "      <th>rs</th>\n",
       "      <th>chr</th>\n",
       "      <th>pos</th>\n",
       "    </tr>\n",
       "  </thead>\n",
       "  <tbody>\n",
       "    <tr>\n",
       "      <th>0</th>\n",
       "      <td>rs880315</td>\n",
       "      <td>1</td>\n",
       "      <td>10736809</td>\n",
       "    </tr>\n",
       "    <tr>\n",
       "      <th>1</th>\n",
       "      <td>rs12027985</td>\n",
       "      <td>1</td>\n",
       "      <td>5046879</td>\n",
       "    </tr>\n",
       "    <tr>\n",
       "      <th>2</th>\n",
       "      <td>rs2853517</td>\n",
       "      <td>12920</td>\n",
       "      <td>709</td>\n",
       "    </tr>\n",
       "    <tr>\n",
       "      <th>3</th>\n",
       "      <td>rs12493885</td>\n",
       "      <td>3</td>\n",
       "      <td>154122077</td>\n",
       "    </tr>\n",
       "    <tr>\n",
       "      <th>4</th>\n",
       "      <td>rs12493885</td>\n",
       "      <td>187533</td>\n",
       "      <td>163143</td>\n",
       "    </tr>\n",
       "  </tbody>\n",
       "</table>\n",
       "</div>"
      ],
      "text/plain": [
       "           rs     chr        pos\n",
       "0    rs880315       1   10736809\n",
       "1  rs12027985       1    5046879\n",
       "2   rs2853517   12920        709\n",
       "3  rs12493885       3  154122077\n",
       "4  rs12493885  187533     163143"
      ]
     },
     "execution_count": 18,
     "metadata": {},
     "output_type": "execute_result"
    }
   ],
   "source": [
    "pd.merge(rsR, info, on='rs')"
   ]
  },
  {
   "cell_type": "code",
   "execution_count": null,
   "metadata": {},
   "outputs": [],
   "source": []
  }
 ],
 "metadata": {
  "kernelspec": {
   "display_name": "Python 3",
   "language": "python",
   "name": "python3"
  },
  "language_info": {
   "codemirror_mode": {
    "name": "ipython",
    "version": 3
   },
   "file_extension": ".py",
   "mimetype": "text/x-python",
   "name": "python",
   "nbconvert_exporter": "python",
   "pygments_lexer": "ipython3",
   "version": "3.10.6"
  },
  "orig_nbformat": 4
 },
 "nbformat": 4,
 "nbformat_minor": 2
}

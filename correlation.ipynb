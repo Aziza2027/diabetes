{
 "cells": [
  {
   "cell_type": "code",
   "execution_count": null,
   "metadata": {},
   "outputs": [],
   "source": []
  },
  {
   "cell_type": "code",
   "execution_count": null,
   "metadata": {},
   "outputs": [],
   "source": [
    "factors_paired = [(i,j) for i in df.columns.values for j in df.columns.values] \n",
    "\n",
    "chi2, p_values =[], []\n",
    "\n",
    "for f in factors_paired:\n",
    "    if f[0] != f[1]:\n",
    "        chitest = chi2_contingency(pd.crosstab(df[f[0]], df[f[1]]))   \n",
    "        chi2.append(chitest[0])\n",
    "        p_values.append(chitest[1])\n",
    "    else:      # for same factor pair\n",
    "        chi2.append(0)\n",
    "        p_values.append(0)\n",
    "\n",
    "chi2 = np.array(chi2).reshape((23,23)) # shape it as a matrix\n",
    "chi2 = pd.DataFrame(chi2, index=df.columns.values, columns=df.columns.values) # then a df for convenience"
   ]
  }
 ],
 "metadata": {
  "language_info": {
   "name": "python"
  },
  "orig_nbformat": 4
 },
 "nbformat": 4,
 "nbformat_minor": 2
}
